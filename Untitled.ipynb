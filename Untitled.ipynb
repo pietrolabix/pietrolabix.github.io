{
 "cells": [
  {
   "cell_type": "code",
   "execution_count": 6,
   "id": "95f004b9",
   "metadata": {},
   "outputs": [
    {
     "name": "stdout",
     "output_type": "stream",
     "text": [
      "Scraping zakończony. Sprawdź plik 'chess_openings.md'.\n"
     ]
    }
   ],
   "source": [
    "import requests\n",
    "from bs4 import BeautifulSoup\n",
    "\n",
    "# URL strony z otwarciami szachowymi\n",
    "url = \"https://www.thechesswebsite.com/chess-openings/\"\n",
    "\n",
    "# Pobranie strony\n",
    "response = requests.get(url)\n",
    "soup = BeautifulSoup(response.content, \"html.parser\")\n",
    "\n",
    "# 1. Scrapowanie listy otwarć (np. \"1. e4\", \"1. d4\")\n",
    "openings_list = soup.find_all(\"a\", id=\"moves\")\n",
    "\n",
    "# 2. Scrapowanie otwarć z obrazkami\n",
    "openings_with_images = soup.find_all(\"a\", href=True)\n",
    "\n",
    "# Tworzymy plik markdown\n",
    "with open(\"chess_openings.md\", \"w\") as file:\n",
    "    # Nagłówek markdown\n",
    "    file.write(\"# Otwarcia szachowe\\n\\n\")\n",
    "\n",
    "    # Zapisujemy listę otwarć (np. 1. e4, 1. d4)\n",
    "    file.write(\"## Lista popularnych otwarć:\\n\")\n",
    "    for opening in openings_list:\n",
    "        move = opening.get_text().strip()\n",
    "        link = opening['href']\n",
    "        file.write(f\"- [{move}]({link})\\n\")\n",
    "    \n",
    "    # Zapisujemy otwarcia z obrazkami i tytułami\n",
    "    file.write(\"\\n## Otwarcia z obrazkami i tytułami:\\n\")\n",
    "    for opening in openings_with_images:\n",
    "        img_tag = opening.find(\"img\")\n",
    "        if img_tag:\n",
    "            img_url = img_tag['src']\n",
    "            title = opening.find(\"h5\")\n",
    "            if title:\n",
    "                title_text = title.get_text().strip()\n",
    "            else:\n",
    "                title_text = \"Brak tytułu\"\n",
    "            \n",
    "            # Dodajemy tytuł, obrazek i link\n",
    "            file.write(f\"### [{title_text}]({opening['href']})\\n\")\n",
    "            file.write(f\"![{title_text}]({img_url})\\n\\n\")\n",
    "\n",
    "print(\"Scraping zakończony. Sprawdź plik 'chess_openings.md'.\")\n"
   ]
  },
  {
   "cell_type": "code",
   "execution_count": null,
   "id": "3fdf6b4b",
   "metadata": {},
   "outputs": [],
   "source": []
  }
 ],
 "metadata": {
  "kernelspec": {
   "display_name": "Python (venv)",
   "language": "python",
   "name": "venv"
  },
  "language_info": {
   "codemirror_mode": {
    "name": "ipython",
    "version": 3
   },
   "file_extension": ".py",
   "mimetype": "text/x-python",
   "name": "python",
   "nbconvert_exporter": "python",
   "pygments_lexer": "ipython3",
   "version": "3.10.16"
  }
 },
 "nbformat": 4,
 "nbformat_minor": 5
}
